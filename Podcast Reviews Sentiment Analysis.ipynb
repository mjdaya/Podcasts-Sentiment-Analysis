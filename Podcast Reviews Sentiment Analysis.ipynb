{
 "cells": [
  {
   "cell_type": "markdown",
   "metadata": {},
   "source": [
    "## Analysis of Podcast Reviews"
   ]
  },
  {
   "cell_type": "markdown",
   "metadata": {},
   "source": [
    "<b> Group 8A </b>: Site Bai, Kevin Cheung, Mira Daya, Ankit Jain, Yu Hsin (Kathy) Lee"
   ]
  },
  {
   "cell_type": "code",
   "execution_count": null,
   "metadata": {},
   "outputs": [],
   "source": [
    "# Libraries\n",
    "import os\n",
    "import sqlite3 as sq\n",
    "import pandas as pd\n",
    "from collections import defaultdict\n",
    "#!pip install wordcloud\n",
    "from wordcloud import WordCloud, STOPWORDS, ImageColorGenerator\n",
    "import warnings\n",
    "warnings.filterwarnings(\"ignore\")\n",
    "import matplotlib.pyplot as plt\n",
    "import re\n",
    "import datetime\n",
    "import numpy as np\n",
    "from matplotlib import rc\n",
    "import seaborn as sns\n",
    "#!pip install plotnine\n",
    "from statsmodels.tsa.arima_process import ArmaProcess\n",
    "!pip install pycausalimpact --user\n",
    "#from causalimpact import CausalImpact\n",
    "from plotnine import *\n",
    "from sklearn.feature_extraction.text import TfidfVectorizer, CountVectorizer\n",
    "from sklearn.decomposition import NMF, LatentDirichletAllocation\n",
    "from nltk.corpus import stopwords\n",
    "from nltk.tokenize import word_tokenize, sent_tokenize\n",
    "import nltk\n",
    "nltk.download('stopwords')\n",
    "stopwords.words('english')\n",
    "nltk.download('punkt')\n",
    "from nltk.stem.porter import PorterStemmer\n",
    "import string\n",
    "from textblob import TextBlob"
   ]
  },
  {
   "cell_type": "code",
   "execution_count": null,
   "metadata": {},
   "outputs": [],
   "source": [
    "# Importing Data\n",
    "os.chdir('C:/Users/jaina/Downloads') # Changing Directory according to computer\n",
    "connection = sq.connect('database.sqlite')\n",
    "cur = connection.cursor()"
   ]
  },
  {
   "cell_type": "code",
   "execution_count": null,
   "metadata": {
    "scrolled": false
   },
   "outputs": [],
   "source": [
    "# Categories Dataset\n",
    "cur.execute('SELECT * FROM categories')\n",
    "categories = defaultdict(list)   \n",
    "for row in cur.fetchall():\n",
    "    categories['Podcast_ID'].append(row[0])\n",
    "    categories['Category'].append(row[1])\n",
    "    \n",
    "categories = pd.DataFrame(categories, columns = list(categories.keys()))\n",
    "categories"
   ]
  },
  {
   "cell_type": "code",
   "execution_count": null,
   "metadata": {},
   "outputs": [],
   "source": [
    "len(list(pd.DataFrame(categories['Category'].value_counts()).index))"
   ]
  },
  {
   "cell_type": "code",
   "execution_count": null,
   "metadata": {},
   "outputs": [],
   "source": [
    "# Podcasts Dataset\n",
    "cur.execute('SELECT * FROM podcasts')\n",
    "podcasts = defaultdict(list)   \n",
    "for row in cur.fetchall():\n",
    "    podcasts['Podcast_ID'].append(row[0])\n",
    "    podcasts['Itunes_ID'].append(row[1])\n",
    "    podcasts['Slug'].append(row[2])\n",
    "    podcasts['Itunes_URL'].append(row[3])\n",
    "    podcasts['Title'].append(row[4])\n",
    "    \n",
    "podcasts = pd.DataFrame(podcasts, columns = list(podcasts.keys()))\n",
    "podcasts"
   ]
  },
  {
   "cell_type": "code",
   "execution_count": null,
   "metadata": {},
   "outputs": [],
   "source": [
    "def podname_finder(given_id):\n",
    "    return list(podcasts[podcasts.Podcast_ID == given_id]['Title'])"
   ]
  },
  {
   "cell_type": "code",
   "execution_count": null,
   "metadata": {
    "scrolled": false
   },
   "outputs": [],
   "source": [
    "# Reviews Dataset\n",
    "cur.execute('SELECT * FROM reviews')\n",
    "reviews = defaultdict(list)   \n",
    "for row in cur.fetchall():\n",
    "    reviews['Podcast_ID'].append(row[0])\n",
    "    reviews['Review_Title'].append(row[1])\n",
    "    reviews['Review_Description'].append(row[2])\n",
    "    reviews['Review_Rating'].append(int(row[3]))\n",
    "    reviews['Review_Created_At'].append(row[4])\n",
    "    \n",
    "reviews = pd.DataFrame(reviews, columns = list(reviews.keys()))\n",
    "reviews"
   ]
  },
  {
   "cell_type": "code",
   "execution_count": null,
   "metadata": {},
   "outputs": [],
   "source": [
    "reviews.isnull().sum().to_frame()"
   ]
  },
  {
   "cell_type": "code",
   "execution_count": null,
   "metadata": {},
   "outputs": [],
   "source": [
    "categories.isnull().sum().to_frame()"
   ]
  },
  {
   "cell_type": "code",
   "execution_count": null,
   "metadata": {},
   "outputs": [],
   "source": [
    "podcasts.isnull().sum().to_frame()"
   ]
  },
  {
   "cell_type": "markdown",
   "metadata": {},
   "source": [
    "## Exploratory Data Analysis"
   ]
  },
  {
   "cell_type": "code",
   "execution_count": null,
   "metadata": {},
   "outputs": [],
   "source": [
    "plt.bar([str(x) for x in list(pd.DataFrame(reviews['Review_Rating'].value_counts()).index)], \n",
    "         list(reviews['Review_Rating'].value_counts()))\n",
    "plt.title('Number of Reviews by Rating')\n",
    "plt.xlabel('Review Rating')\n",
    "plt.ylabel('Review Count')\n",
    "plt.show()"
   ]
  },
  {
   "cell_type": "code",
   "execution_count": null,
   "metadata": {},
   "outputs": [],
   "source": [
    "# Transforming the Review Created At Variable\n",
    "list1 = []\n",
    "for time in reviews['Review_Created_At']:\n",
    "    t = re.sub(r\"-07:00\", \"\", time)\n",
    "    t = re.sub(r\"T\", \" \", t)\n",
    "    list1.append(t)\n",
    "\n",
    "reviews['Review_DateTime'] = list1\n",
    "\n",
    "# Keep rows that contain numbers\n",
    "reviews = reviews[reviews['Review_DateTime'].str.contains(r'[0-9]+')]\n",
    "\n",
    "# Transform to datetime object\n",
    "for time in reviews['Review_DateTime']:\n",
    "    t = datetime.datetime.strptime(time,\"%Y-%m-%d %H:%M:%S\") \n",
    "    datetime.datetime.timestamp(t) "
   ]
  },
  {
   "cell_type": "code",
   "execution_count": null,
   "metadata": {},
   "outputs": [],
   "source": [
    "# Extract year, month, hour, and weekday from DateTime\n",
    "reviews[\"Review_DateTime\"] = pd.to_datetime(reviews[\"Review_DateTime\"])\n",
    "reviews[\"Year\"] = reviews[\"Review_DateTime\"].dt.year\n",
    "reviews[\"Month\"] = reviews[\"Review_DateTime\"].dt.month\n",
    "reviews[\"Weekday\"] = reviews[\"Review_DateTime\"].dt.weekday\n",
    "reviews[\"Hour\"] = reviews[\"Review_DateTime\"].dt.hour"
   ]
  },
  {
   "cell_type": "code",
   "execution_count": null,
   "metadata": {},
   "outputs": [],
   "source": [
    "# Reviews Over Time from 2006 to 2020\n",
    "(ggplot(reviews, aes(\"Review_DateTime\")) \n",
    " + geom_area(stat = \"bin\", fill = \"cornflowerblue\") \n",
    " + theme(axis_text_x = element_text(angle = 45)) \n",
    " + labs(x = \"Date\", y = \"Count\", title = \"Reviews Over Time\"))"
   ]
  },
  {
   "cell_type": "markdown",
   "metadata": {},
   "source": [
    "### By Year (2011-2020)"
   ]
  },
  {
   "cell_type": "code",
   "execution_count": null,
   "metadata": {},
   "outputs": [],
   "source": [
    "# Extract rows between 2015-2021 and group them by review ratings\n",
    "year = reviews[reviews['Year'] >= 2011]\n",
    "#year.to_csv(r'/Users/KathyLee/UCI MSBA/Course Material/04 Winter Quarter/BANA277 Customer & Social Analytics/Project/ Reviews2011.csv', index = False)\n",
    "\n",
    "# Group by Rating and Year\n",
    "ratingbyyear = year.groupby([\"Review_Rating\", \"Year\"])[\"Review_Rating\"].count()"
   ]
  },
  {
   "cell_type": "code",
   "execution_count": null,
   "metadata": {},
   "outputs": [],
   "source": [
    "# Percentage of Reviews Ratings by Year (2011-2020)\n",
    "plt.figure(figsize = (9,6))\n",
    "\n",
    "# Values of each group\n",
    "bars1 = [ratingbyyear[1][2011], ratingbyyear[1][2012], ratingbyyear[1][2013], ratingbyyear[1][2014], ratingbyyear[1][2015], ratingbyyear[1][2016], ratingbyyear[1][2017], ratingbyyear[1][2018], ratingbyyear[1][2019], ratingbyyear[1][2020]]\n",
    "bars2 = [ratingbyyear[2][2011], ratingbyyear[2][2012], ratingbyyear[2][2013], ratingbyyear[2][2014], ratingbyyear[2][2015], ratingbyyear[2][2016], ratingbyyear[2][2017], ratingbyyear[2][2018], ratingbyyear[2][2019], ratingbyyear[2][2020]]\n",
    "bars3 = [ratingbyyear[3][2011], ratingbyyear[3][2012], ratingbyyear[3][2013], ratingbyyear[3][2014], ratingbyyear[3][2015], ratingbyyear[3][2016], ratingbyyear[3][2017], ratingbyyear[3][2018], ratingbyyear[3][2019], ratingbyyear[3][2020]]\n",
    "bars4 = [ratingbyyear[4][2011], ratingbyyear[4][2012], ratingbyyear[4][2013], ratingbyyear[4][2014], ratingbyyear[4][2015], ratingbyyear[4][2016], ratingbyyear[4][2017], ratingbyyear[4][2018], ratingbyyear[4][2019], ratingbyyear[4][2020]]\n",
    "bars5 = [ratingbyyear[5][2011], ratingbyyear[5][2012], ratingbyyear[5][2013], ratingbyyear[5][2014], ratingbyyear[5][2015], ratingbyyear[5][2016], ratingbyyear[5][2017], ratingbyyear[5][2018], ratingbyyear[5][2019], ratingbyyear[5][2020]]\n",
    "\n",
    "totals = [i+j+k+z+g for i,j,k,z,g in zip(bars1, bars2, bars3, bars4, bars5)]\n",
    "One = [i / j * 100 for i,j in zip(bars1, totals)]\n",
    "Two = [i / j * 100 for i,j in zip(bars2, totals)]\n",
    "Three = [i / j * 100 for i,j in zip(bars3, totals)]\n",
    "Four = [i / j * 100 for i,j in zip(bars4, totals)]\n",
    "Five = [i / j * 100 for i,j in zip(bars5, totals)]\n",
    "\n",
    "\n",
    "# The position of the bars on the x-axis\n",
    "r = [0,1,2,3,4,5,6,7,8,9]\n",
    " \n",
    "# Names of group and bar width\n",
    "names = ['2011', '2012', '2013', '2014', '2015', '2016', '2017', '2018', '2019', '2020']\n",
    "barWidth = 1\n",
    "\n",
    "# Create bars\n",
    "plt.bar(r, One, color = 'slategrey', edgecolor = 'white', width = barWidth)\n",
    "plt.bar(r, Two, bottom = One, color='lightsteelblue', edgecolor = 'white', width = barWidth)\n",
    "plt.bar(r, Three, bottom = [i+j for i,j in zip(One,Two)], color = 'cornflowerblue', edgecolor = 'white', width = barWidth)\n",
    "plt.bar(r, Four, bottom = [i+j+z for i,j,z in zip(One,Two,Three)], color = 'royalblue', edgecolor = 'white', width = barWidth)\n",
    "plt.bar(r, Five, bottom = [i+j+z+g for i,j,z,g in zip(One, Two, Three, Four)], color = 'midnightblue', edgecolor = 'white', width = barWidth)\n",
    "\n",
    "# Aes\n",
    "plt.xticks(r, names)\n",
    "plt.xlabel(\"Year\", weight = \"bold\", size = 14)\n",
    "plt.ylabel(\"Percentage\", weight = \"bold\", size = 14)\n",
    "plt.legend(['1','2','3','4','5'], fontsize = 12)\n",
    "plt.title(\"Percentage of Review Ratings by Year\", weight = \"bold\", size = 16)\n",
    "plt.xticks(fontsize = 12)\n",
    "plt.yticks(fontsize = 12)\n",
    "\n",
    "# Show graphic\n",
    "plt.show()"
   ]
  },
  {
   "cell_type": "markdown",
   "metadata": {},
   "source": [
    "### By Hour"
   ]
  },
  {
   "cell_type": "code",
   "execution_count": null,
   "metadata": {},
   "outputs": [],
   "source": [
    "rvcnth = pd.DataFrame(reviews.groupby(\"Hour\", as_index = False)[\"Hour\"].count())\n",
    "rvcnth = rvcnth.rename(columns = {\"Hour\": \"Count\"})\n",
    "rvcnth[\"Hour\"] = ['12 pm', '1 am', '2 am', '3 am', '4  am', '5  am', '6 am', '7 am', '8 am', '9 am', '10 am', '11 am', '12 am', '1 pm', '2 pm', '3 pm', '4 pm', '5 pm', '6 pm', '7 pm', '8 pm', '9 pm', '10 pm', '11 pm']\n",
    "\n",
    "# Barplot\n",
    "plt.figure(figsize = (22,13))\n",
    "\n",
    "barplot = plt.bar(rvcnth[\"Hour\"], rvcnth[\"Count\"], color = \"midnightblue\", width = 0.7)\n",
    "barplot[10].set_color('orange')\n",
    "barplot[1].set_color('orange')\n",
    "\n",
    "plt.title('Review Count by Hours', fontsize = 30, weight = \"bold\")\n",
    "plt.xlabel('Hours', fontsize = 18, weight = \"bold\")\n",
    "plt.ylabel('Count', fontsize = 18, weight = \"bold\")\n",
    "plt.xticks(fontsize = 12)\n",
    "plt.yticks(fontsize = 12)\n",
    "plt.show()"
   ]
  },
  {
   "cell_type": "code",
   "execution_count": null,
   "metadata": {},
   "outputs": [],
   "source": [
    "# Average Reviews Rating by Hours\n",
    "avgrt = reviews[[\"Hour\", \"Review_Rating\"]]\n",
    "avgrt = avgrt.groupby(\"Hour\", as_index = False).mean()\n",
    "avgrt[\"Hour\"] = ['12 pm', '1 am', '2 am', '3 am', '4  am', '5  am', '6 am', '7 am', '8 am', '9 am', '10 am', '11 am', '12 am', '1 pm', '2 pm', '3 pm', '4 pm', '5 pm', '6 pm', '7 pm', '8 pm', '9 pm', '10 pm', '11 pm']\n",
    "\n",
    "with plt.style.context('ggplot'):\n",
    "    plt.figure(figsize = (20,10))\n",
    "    plt.plot(avgrt[\"Hour\"], avgrt[\"Review_Rating\"], linestyle='solid', linewidth = 5, color = \"cornflowerblue\")\n",
    "    plt.title('Average Review Rating by Hours', fontsize = 30, weight = \"bold\")\n",
    "    plt.xlabel('Hours', fontsize = 18, weight = \"bold\")\n",
    "    plt.ylabel('Review_Rating', fontsize = 18, weight = \"bold\")\n",
    "    plt.xticks(fontsize = 12)\n",
    "    plt.yticks(fontsize = 12)\n",
    "plt.show()"
   ]
  },
  {
   "cell_type": "markdown",
   "metadata": {},
   "source": [
    "### By Weekday"
   ]
  },
  {
   "cell_type": "code",
   "execution_count": null,
   "metadata": {},
   "outputs": [],
   "source": [
    "reviewsbyweekday = pd.DataFrame(reviews.groupby(\"Weekday\", as_index = False)[\"Weekday\"].count())\n",
    "reviewsbyweekday = reviewsbyweekday.rename(columns = {\"Weekday\": \"Count\"})\n",
    "reviewsbyweekday[\"Weekday\"] = [\"Sun\", \"Mon\", \"Tue\", \"Wed\", \"Thu\", \"Fri\", \"Sat\"]\n",
    "\n",
    "# Barplot\n",
    "plt.figure(figsize = (9, 6))\n",
    "barplot = plt.bar(reviewsbyweekday[\"Weekday\"], reviewsbyweekday[\"Count\"], color = \"midnightblue\", width = 0.7)\n",
    "barplot[2].set_color('orange')\n",
    "barplot[5].set_color('orange')\n",
    "\n",
    "plt.title('Review Count by Weekday', fontsize = 16, weight = \"bold\")\n",
    "plt.xlabel('Weekday', fontsize = 14, weight = \"bold\")\n",
    "plt.ylabel('Count', fontsize = 14, weight = \"bold\")\n",
    "plt.xticks(fontsize = 12)\n",
    "plt.yticks(fontsize = 12)\n",
    "plt.show()"
   ]
  },
  {
   "cell_type": "code",
   "execution_count": null,
   "metadata": {
    "scrolled": true
   },
   "outputs": [],
   "source": [
    "# Average Review Rating by Weekdays\n",
    "week = reviews[[\"Weekday\", \"Review_Rating\"]]\n",
    "avgrw = week.groupby(\"Weekday\", as_index = False).mean()\n",
    "avgrw['Weekday'] = [\"Sun\", \"Mon\", \"Tue\", \"Wed\", \"Thu\", \"Fri\", \"Sat\"]\n",
    "\n",
    "with plt.style.context('ggplot'):\n",
    "    plt.figure(figsize = (10,8))\n",
    "    plt.plot(avgrw[\"Weekday\"], avgrw[\"Review_Rating\"], linestyle='solid', linewidth = 5, color = \"cornflowerblue\")\n",
    "    plt.title('Average Review Rating by Weekday', fontsize = 20, weight = \"bold\")\n",
    "    plt.xlabel('Weekday', fontsize = 16, weight = \"bold\")\n",
    "    plt.ylabel('Average Review_Rating', fontsize = 16, weight = \"bold\")\n",
    "    plt.xticks(fontsize = 12)\n",
    "    plt.yticks(fontsize = 12)    \n",
    "plt.show()"
   ]
  },
  {
   "cell_type": "code",
   "execution_count": null,
   "metadata": {},
   "outputs": [],
   "source": [
    "# Review Rating over the Years\n",
    "# The trend of number of rating over the study period from year 2006 to year 2020 since the year 2021 is not over yet.\n",
    "no_2105 = reviews[(reviews.Year != 2021) &  (reviews.Year != 2005)]\n",
    "(ggplot(no_2105.groupby('Year')['Review_Rating'].count().reset_index()) +\n",
    "    aes('Year', 'Review_Rating') +\n",
    "    geom_line())"
   ]
  },
  {
   "cell_type": "code",
   "execution_count": null,
   "metadata": {},
   "outputs": [],
   "source": [
    "one_five = no_2105.groupby(['Year','Review_Rating'])['Podcast_ID'].count()\n",
    "one_five_props = one_five.groupby(level = 0).apply(lambda x :  100 * x / float(x.sum()))\n",
    "one_five_props = one_five_props.reset_index()\n",
    "ones = one_five_props[one_five_props['Review_Rating'] == 1]\n",
    "ones = ones.rename(columns = {'Podcast_ID':'proportion'})\n",
    "fives = one_five_props[one_five_props['Review_Rating'] == 5]\n",
    "fives = fives.rename(columns = {'Podcast_ID':'proportion'})\n",
    "\n",
    "# Prepare the dataframe for creating line plot with dual Y axis. \n",
    "ones['proportion_5'] = fives.proportion.values"
   ]
  },
  {
   "cell_type": "code",
   "execution_count": null,
   "metadata": {},
   "outputs": [],
   "source": [
    "# As shown in the plot, in 2020, the proportion of rating 1 rised up to the highest point, and on the contrast, \n",
    "# the proportion of rating 5 dropped to the lowest point among past five years. \n",
    "fig,ax1 = plt.subplots()\n",
    "ax2 = ax1.twinx()\n",
    "ax1.plot(ones['Year'],ones['proportion'], 'g-' )\n",
    "ax2.plot(ones['Year'], ones['proportion_5'],'b-')\n",
    "ax1.set_xlabel('Year (2006 to 2020)')\n",
    "ax1.set_ylabel('Proportion of Rating 1', color='g')\n",
    "ax2.set_ylabel('Proportion of Rating 5', color='b')\n",
    "plt.show()"
   ]
  },
  {
   "cell_type": "code",
   "execution_count": null,
   "metadata": {},
   "outputs": [],
   "source": [
    "cag_rev =  pd.merge(categories, reviews, on='Podcast_ID')\n",
    "cag_rev['Review_Created_At'] = pd.to_datetime(cag_rev['Review_Created_At'],infer_datetime_format=True )\n",
    "cag_rev['year'] = cag_rev['Review_Created_At'].dt.year\n",
    "cag_rev['month'] = cag_rev['Review_Created_At'].dt.month\n",
    "cag_rev['hour'] = cag_rev['Review_Created_At'].dt.hour"
   ]
  },
  {
   "cell_type": "code",
   "execution_count": null,
   "metadata": {},
   "outputs": [],
   "source": [
    "# Seeing the most popular categories being reviewed\n",
    "cag_rev['Category'].value_counts()"
   ]
  },
  {
   "cell_type": "code",
   "execution_count": null,
   "metadata": {},
   "outputs": [],
   "source": [
    "top_seven = ['society-culture',\"comedy\",\"business\",\"tv-film\",\"education\",'arts',\"religion-spirituality\"]\n",
    "top_seven_table = cag_rev[cag_rev['Category'].isin(top_seven)]"
   ]
  },
  {
   "cell_type": "code",
   "execution_count": null,
   "metadata": {},
   "outputs": [],
   "source": [
    "pandemic_year = top_seven_table[(top_seven_table.year == 2019) | (top_seven_table.year == 2020)]\n",
    "pandemic_group = pandemic_year.groupby(['year','month','Review_Rating'])['Podcast_ID'].count()\n",
    "with_categs = pandemic_year.groupby(['year','month','Category','Review_Rating'])['Podcast_ID'].count()\n",
    "with_catehs_props = with_categs.groupby(level=[0,1,2]).apply(lambda x : 100 * x / float(x.sum()))\n",
    "with_catehs_props = with_catehs_props.reset_index()\n",
    "with_categ_new = with_catehs_props.rename(columns = {'Podcast_ID':'proportion'})\n",
    "catehs_ones = with_categ_new[with_categ_new['Review_Rating'] == 1]\n",
    "society_culture_p = catehs_ones[catehs_ones.Category == 'society-culture'].proportion.values\n",
    "arts_p = catehs_ones[catehs_ones.Category == 'arts'].proportion.values\n",
    "comedy_p = catehs_ones[catehs_ones.Category == 'comedy'].proportion.values\n",
    "tv_film_p = catehs_ones[catehs_ones.Category == 'tv-film'].proportion.values\n",
    "business_p = catehs_ones[catehs_ones.Category == 'business'].proportion.values\n",
    "eductaion_p = catehs_ones[catehs_ones.Category == 'education'].proportion.values\n",
    "religion_spirituality_p= catehs_ones[catehs_ones.Category == 'religion-spirituality'].proportion.values"
   ]
  },
  {
   "cell_type": "code",
   "execution_count": null,
   "metadata": {},
   "outputs": [],
   "source": [
    "plot_df = pd.DataFrame({'x':range(1,25),\n",
    "                      'society':society_culture_p,\n",
    "                      'arts':arts_p,\n",
    "                       'comedy':comedy_p,\n",
    "                       'tv_film': tv_film_p,\n",
    "                        'business':business_p,\n",
    "                        'education':eductaion_p,\n",
    "                        'religion_spirituality':religion_spirituality_p\n",
    "                       })"
   ]
  },
  {
   "cell_type": "code",
   "execution_count": null,
   "metadata": {},
   "outputs": [],
   "source": [
    "# Proprotion of Rating 1 over Year 2019 & Year 2020\n",
    "plt.figure(figsize=(20,10))\n",
    "plt.plot(plot_df['x'], plot_df['society'], marker='', color='grey', linewidth=2, alpha=0.4)\n",
    "plt.plot(plot_df['x'], plot_df['arts'], marker='', color='blue', linewidth=2, alpha=0.4)\n",
    "plt.plot(plot_df['x'], plot_df['comedy'], marker='', color='orange', linewidth=2, alpha=0.4)\n",
    "plt.plot(plot_df['x'], plot_df['tv_film'], marker='', color='green', linewidth=2, alpha=0.4)\n",
    "plt.plot(plot_df['x'], plot_df['business'], marker='', color='pink', linewidth=2, alpha=0.4)\n",
    "plt.plot(plot_df['x'], plot_df['education'], marker='', color='red', linewidth=2, alpha=0.4)\n",
    "plt.plot(plot_df['x'], plot_df['religion_spirituality'], marker='', color='purple', linewidth=2, alpha=0.4)\n",
    "plt.plot([18, 18], [0, 18], 'k-', linestyle='dashed', lw=1)\n",
    "plt.plot([15, 15], [0, 18], 'k-', linestyle='dashed', lw=1)\n",
    "plt.text(18.3, 10, 'June 2020', fontsize = 16, color = 'red')\n",
    "plt.text(12.7, 12.5, 'March 2020', fontsize = 16, color = 'red')\n",
    "\n",
    "plt.title('Proprotion of Rating 1 over Year 2019 & Year 2020', fontsize = 18)\n",
    "plt.xlabel('2019-2020', fontsize = 18)\n",
    "plt.ylabel('Proportions', fontsize = 18)\n",
    "\n",
    "\n",
    "num = 0\n",
    "for i in plot_df.values[23][1:]:\n",
    "    num += 1\n",
    "    name = list(plot_df)[num]\n",
    "    plt.text(24, i, name, horizontalalignment='left',fontsize = 12, color='black')"
   ]
  },
  {
   "cell_type": "code",
   "execution_count": null,
   "metadata": {},
   "outputs": [],
   "source": [
    "catehs_fives = with_categ_new[with_categ_new['Review_Rating'] == 5]\n",
    "society_culture_f = catehs_fives[catehs_fives.Category == 'society-culture'].proportion.values\n",
    "arts_f = catehs_fives[catehs_fives.Category == 'arts'].proportion.values\n",
    "comedy_f = catehs_fives[catehs_fives.Category == 'comedy'].proportion.values\n",
    "tv_film_f = catehs_fives[catehs_fives.Category == 'tv-film'].proportion.values\n",
    "business_f = catehs_fives[catehs_fives.Category == 'business'].proportion.values\n",
    "eductaion_f = catehs_fives[catehs_fives.Category == 'education'].proportion.values\n",
    "religion_spirituality_f= catehs_fives[catehs_fives.Category == 'religion-spirituality'].proportion.values"
   ]
  },
  {
   "cell_type": "code",
   "execution_count": null,
   "metadata": {},
   "outputs": [],
   "source": [
    "plot_df_five = pd.DataFrame({'x':range(1,25),\n",
    "                      'society':society_culture_f,\n",
    "                      'arts':arts_f,\n",
    "                       'comedy':comedy_f,\n",
    "                       'tv_film': tv_film_f,\n",
    "                        'business':business_f,\n",
    "                        'education':eductaion_f,\n",
    "                        'religion_spirituality':religion_spirituality_f\n",
    "                       })"
   ]
  },
  {
   "cell_type": "code",
   "execution_count": null,
   "metadata": {},
   "outputs": [],
   "source": [
    "# Proprotion of Rating 5 over Year 2019 & Year 2020\n",
    "plt.figure(figsize=(20,10))\n",
    "plt.plot(plot_df['x'], plot_df_five['society'], marker='', color='grey', linewidth=2, alpha=0.4)\n",
    "plt.plot(plot_df['x'], plot_df_five['arts'], marker='', color='blue', linewidth=2, alpha=0.4)\n",
    "plt.plot(plot_df['x'], plot_df_five['comedy'], marker='', color='orange', linewidth=2, alpha=0.4)\n",
    "plt.plot(plot_df['x'], plot_df_five['tv_film'], marker='', color='green', linewidth=2, alpha=0.4)\n",
    "plt.plot(plot_df['x'], plot_df_five['business'], marker='', color='pink', linewidth=2, alpha=0.4)\n",
    "plt.plot(plot_df['x'], plot_df_five['education'], marker='', color='red', linewidth=2, alpha=0.4)\n",
    "plt.plot(plot_df['x'], plot_df_five['religion_spirituality'], marker='', color='purple', linewidth=1, alpha=0.4)\n",
    "plt.plot([18, 18], [70, 95], 'k-', linestyle='dashed', lw=1)\n",
    "\n",
    "plt.text(18.2, 85, 'June 2020', fontsize = 18, color = 'red')\n",
    "#plt.text(9, 85, 'March 2020', fontsize = 12, color = 'red')\n",
    "\n",
    "plt.title('Proprotion of Rating 5 over Year 2019 & Year 2020')\n",
    "plt.xlabel('2019-2020')\n",
    "plt.ylabel('Proportions')\n",
    "\n",
    "num = 0\n",
    "for i in plot_df_five.values[23][1:]:\n",
    "    num += 1\n",
    "    name = list(plot_df_five)[num]\n",
    "    plt.text(24, i, name, horizontalalignment='left',fontsize = 12, color='black')"
   ]
  },
  {
   "cell_type": "code",
   "execution_count": null,
   "metadata": {},
   "outputs": [],
   "source": [
    "def podcat(given_id):\n",
    "    '''\n",
    "    Generalizing categories for a given podcast ID\n",
    "    '''\n",
    "    cat = list(categories[categories.Podcast_ID == given_id]['Category'])\n",
    "    cat_dict = defaultdict(int)\n",
    "    for c in cat:\n",
    "        if 'arts' in c:\n",
    "            cat_dict['arts'] += 1\n",
    "        elif 'business' in c:\n",
    "            cat_dict['business'] += 1\n",
    "        elif 'society-culture' in c:\n",
    "            cat_dict['society_culture'] += 1\n",
    "        elif c in ['buddhism','christianity','hinduism','islam','judaism','religion-spirituality','spirituality']:\n",
    "            cat_dict['religion-spirituality'] += 1\n",
    "        else:\n",
    "            cat_dict[c] += 1\n",
    "    for k in cat_dict.keys():\n",
    "        if cat_dict[k] == max(dict(cat_dict).values()):\n",
    "            return k"
   ]
  },
  {
   "cell_type": "code",
   "execution_count": null,
   "metadata": {},
   "outputs": [],
   "source": [
    "# Adding Category to Podcasts Table\n",
    "podcasts['Category'] = [podcat(i) for i in podcasts['Podcast_ID']]"
   ]
  },
  {
   "cell_type": "code",
   "execution_count": null,
   "metadata": {
    "scrolled": true
   },
   "outputs": [],
   "source": [
    "# Adding Category to Reviews Table\n",
    "reviews = reviews.merge(podcasts, on = 'Podcast_ID', how = 'right')[['Podcast_ID','Review_Title','Review_Description',\n",
    "                                                                    'Review_Rating','Review_Created_At','Category']]"
   ]
  },
  {
   "cell_type": "code",
   "execution_count": null,
   "metadata": {},
   "outputs": [],
   "source": [
    "# Bar Graph for Generalized Categories\n",
    "plt.barh(list(pd.DataFrame(podcasts['Category'].value_counts()).index), \n",
    "         list(podcasts['Category'].value_counts()))\n",
    "plt.title('Number of Podcasts by Generalized Category')\n",
    "plt.xlabel('Number of Podcasts')\n",
    "plt.ylabel('Category')\n",
    "plt.show()"
   ]
  },
  {
   "cell_type": "code",
   "execution_count": null,
   "metadata": {},
   "outputs": [],
   "source": [
    "plt.barh(list(pd.DataFrame(reviews['Category'].value_counts()).index), \n",
    "         list(reviews['Category'].value_counts()))\n",
    "plt.title('Number of Reviews by General Category')\n",
    "plt.xlabel('Number of Reviews')\n",
    "plt.ylabel('Category')\n",
    "plt.show()"
   ]
  },
  {
   "cell_type": "code",
   "execution_count": null,
   "metadata": {},
   "outputs": [],
   "source": [
    "# Average Review Rating by General Category\n",
    "pd.DataFrame(reviews.groupby('Category').mean()).sort_values('Review_Rating')"
   ]
  },
  {
   "cell_type": "markdown",
   "metadata": {},
   "source": [
    "### Text Modelling"
   ]
  },
  {
   "cell_type": "code",
   "execution_count": null,
   "metadata": {},
   "outputs": [],
   "source": [
    "def rating_clouds(given_rating):\n",
    "    stopwords = set(STOPWORDS)\n",
    "    stopwords.update(['podcast', 'listen', 'podcasts', 'listening','episode', 'listened','s',\n",
    "                      'show', 'episodes', 'used', 'good', 'love', 'listener', 'will', 'really'\n",
    "                     , 'like', 'people', 'don', 't', 'm', '&','ve', 're', 'one'])\n",
    "\n",
    "    ratings_table = reviews[reviews.Review_Rating == given_rating]\n",
    "    description_text = ' '.join(review for review in ratings_table.Review_Description)\n",
    "    description_text = description_text.lower()\n",
    "    description_text = description_text.strip()\n",
    "\n",
    "    title_text = ' '.join(review for review in ratings_table.Review_Title)\n",
    "    title_text = title_text.strip()\n",
    "    \n",
    "    print('Rating: {}'.format(given_rating))\n",
    "    print('Word Cloud for Review Descriptions')\n",
    "    plt.figure(figsize=(20, 20))\n",
    "    plt.imshow(WordCloud(stopwords = stopwords).generate(description_text), interpolation = 'bilinear')\n",
    "    plt.axis('off')\n",
    "    plt.show()\n",
    "    \n",
    "    print('Word Cloud for Review Titles')\n",
    "    plt.figure(figsize=(20, 20))\n",
    "    plt.imshow(WordCloud(stopwords = stopwords).generate(title_text), interpolation = 'bilinear')\n",
    "    plt.axis('off')\n",
    "    plt.show()"
   ]
  },
  {
   "cell_type": "code",
   "execution_count": null,
   "metadata": {
    "scrolled": false
   },
   "outputs": [],
   "source": [
    "for rating in sorted(set(reviews['Review_Rating'])):\n",
    "    rating_clouds(rating)"
   ]
  },
  {
   "cell_type": "code",
   "execution_count": null,
   "metadata": {},
   "outputs": [],
   "source": [
    "# Function for tokenization including stemming \n",
    "from nltk.stem.porter import PorterStemmer\n",
    "\n",
    "# Initialize stemmer using porterstemmer\n",
    "stemmer = PorterStemmer()\n",
    "\n",
    "stopwords_list = []\n",
    "\n",
    "stopwords = set(stopwords.words('english'))\n",
    "stopwords1 = stopwords.union(set(stopwords_list)) # stopwords into list\n",
    "\n",
    "def tokenize_stem(text):\n",
    "    try: \n",
    "        regex = re.compile('[' +re.escape(string.punctuation) + '0-9\\\\r\\\\t\\\\n]') \n",
    "        text = regex.sub(\" \", text) \n",
    "        \n",
    "        tokens1 = [word_tokenize(s) for s in sent_tokenize(text)] \n",
    "        tokens = []\n",
    "        for token_by_sent in tokens1:\n",
    "            tokens += token_by_sent\n",
    "        tokens = list(filter(lambda t: t.lower() not in stopwords1, tokens))\n",
    "        new_tokens = [w for w in tokens if re.search('[a-zA-Z]', w)]\n",
    "        new_tokens = [w.lower() for w in new_tokens if len(w)>=3]\n",
    "        \n",
    "        # Stemming \n",
    "        stems = [stemmer.stem(item) for item in new_tokens]\n",
    "        return stems\n",
    "    \n",
    "    except TypeError as e: print(text,e)"
   ]
  },
  {
   "cell_type": "code",
   "execution_count": null,
   "metadata": {},
   "outputs": [],
   "source": [
    "# Function to print top words in topic modeling\n",
    "def print_top_words(model, feature_names, n_top_words):\n",
    "    for index, topic in enumerate(model.components_): #model.components_ gives an array (n_components, n_features)\n",
    "        message = \"Topic #{}:\".format(index)\n",
    "        message += \" \".join([feature_names[i] for i in topic.argsort()[:-n_top_words - 1 :-1]])\n",
    "        print(message)\n",
    "        print(\"_\"*70) "
   ]
  },
  {
   "cell_type": "code",
   "execution_count": null,
   "metadata": {},
   "outputs": [],
   "source": [
    "# Considering Data only after 2020 for analysis\n",
    "cur.execute('SELECT * FROM reviews')\n",
    "reviews = defaultdict(list)   \n",
    "for row in cur.fetchall():\n",
    "    reviews['Podcast_ID'].append(row[0])\n",
    "    reviews['Review_Title'].append(row[1])\n",
    "    reviews['Review_Description'].append(row[2])\n",
    "    reviews['Review_Rating'].append(int(row[3]))\n",
    "    reviews['Review_Created_At'].append(row[4])    \n",
    "reviews = pd.DataFrame(reviews, columns = list(reviews.keys()))\n",
    "reviews['Review_Created_At'] = pd.to_datetime(reviews['Review_Created_At'])\n",
    "reviews = reviews[pd.DatetimeIndex(reviews['Review_Created_At']).year == 2020].reset_index(drop = True)\n",
    "reviews['month'] = pd.DatetimeIndex(reviews['Review_Created_At']).month"
   ]
  },
  {
   "cell_type": "code",
   "execution_count": null,
   "metadata": {},
   "outputs": [],
   "source": [
    "# Tokenizing Description \n",
    "reviews['desc_stem'] = reviews['Review_Description'].map(tokenize_stem)\n",
    "reviews.reset_index(drop=True, inplace=True)"
   ]
  },
  {
   "cell_type": "code",
   "execution_count": null,
   "metadata": {},
   "outputs": [],
   "source": [
    "# Creating Tf-Idf Scores for Review Descriptions\n",
    "tfidf_vec = TfidfVectorizer(min_df=0.005,\n",
    "                             max_features=None,\n",
    "                             tokenizer=tokenize_stem,\n",
    "                             ngram_range=(2, 3))\n",
    "tfidf_e = reviews['Review_Description'].values\n",
    "tfidf_vz = tfidf_vec.fit_transform(list(tfidf_e))"
   ]
  },
  {
   "cell_type": "code",
   "execution_count": null,
   "metadata": {},
   "outputs": [],
   "source": [
    "tfidf_table = dict(zip(tfidf_vec.get_feature_names(), tfidf_vec.idf_))\n",
    "\n",
    "tfidf_table = pd.DataFrame(columns=['tfidf']).from_dict(dict(tfidf_table), orient='index')\n",
    "tfidf_table.columns = ['tfidf']"
   ]
  },
  {
   "cell_type": "code",
   "execution_count": null,
   "metadata": {},
   "outputs": [],
   "source": [
    "# Lower the TF IDF score, the more common the word \n",
    "tfidf_table.sort_values(by = ['tfidf'], ascending = True).head(20)"
   ]
  },
  {
   "cell_type": "code",
   "execution_count": null,
   "metadata": {},
   "outputs": [],
   "source": [
    "# Higher the TF IDF score, the more rare the terms\n",
    "tfidf_table.sort_values(by = ['tfidf'], ascending = False).head(20)"
   ]
  },
  {
   "cell_type": "code",
   "execution_count": null,
   "metadata": {
    "scrolled": true
   },
   "outputs": [],
   "source": [
    "# Clustering Each Review\n",
    "# NMF with TfidfVectorizer \n",
    "n_top_words = 15\n",
    "\n",
    "nmf1 = NMF(init=\"nndsvd\",\n",
    "            n_components=20,\n",
    "            max_iter=200, random_state=0)\n",
    "A1 = tfidf_vz\n",
    "W1 = nmf1.fit_transform(A1) \n",
    "H1 = nmf1.components_ \n",
    "\n",
    "tfidf_feature_names = tfidf_vec.get_feature_names()\n",
    "print_top_words(nmf1, tfidf_feature_names, n_top_words)"
   ]
  },
  {
   "cell_type": "markdown",
   "metadata": {},
   "source": [
    "### Sentiment Analysis"
   ]
  },
  {
   "cell_type": "code",
   "execution_count": null,
   "metadata": {},
   "outputs": [],
   "source": [
    "def getSubjectivity(text): # Function to get Subjectivity\n",
    "    return TextBlob(text).sentiment.subjectivity"
   ]
  },
  {
   "cell_type": "code",
   "execution_count": null,
   "metadata": {},
   "outputs": [],
   "source": [
    "def getPolarity(text): # Function to get Polarity\n",
    "    return TextBlob(text).sentiment.polarity"
   ]
  },
  {
   "cell_type": "code",
   "execution_count": null,
   "metadata": {},
   "outputs": [],
   "source": [
    "def getAnalysis(score):\n",
    "    if score < 0:\n",
    "        return \"Negative\"\n",
    "    elif score == 0:\n",
    "        return \"Neutral\"\n",
    "    else:\n",
    "        return \"Positive\""
   ]
  },
  {
   "cell_type": "code",
   "execution_count": null,
   "metadata": {},
   "outputs": [],
   "source": [
    "def sentiment_analyzer(df, col):\n",
    "    df[\"TextBlob_Subjectivity_{}\".format(col)] = df[col].apply(getSubjectivity)\n",
    "    df[\"TextBlob_Polarity_{}\".format(col)] = df[col].apply(getPolarity)\n",
    "    df[\"TextBlob_Analysis_{}\".format(col)] = df[\"TextBlob_Polarity_{}\".format(col)].apply(getAnalysis)"
   ]
  },
  {
   "cell_type": "code",
   "execution_count": null,
   "metadata": {},
   "outputs": [],
   "source": [
    "# Getting the sentiment of Review Description and Title\n",
    "sentiment_analyzer(reviews, 'Review_Description')\n",
    "sentiment_analyzer(reviews, 'Review_Title')"
   ]
  },
  {
   "cell_type": "code",
   "execution_count": null,
   "metadata": {},
   "outputs": [],
   "source": [
    "# Polarity throughout 2020\n",
    "plt.figure(figsize=(9,4))\n",
    "sns.lineplot(x = 'month', y = 'TextBlob_Polarity_Review_Description', data = reviews).set_title('Polarity Across 2020 (Description)')\n",
    "plt.show()\n",
    "\n",
    "plt.figure(figsize=(9,4))\n",
    "sns.lineplot(x = 'month', y = 'TextBlob_Polarity_Review_Title', data = reviews).set_title('Polarity Across 2020 (Title)')\n",
    "plt.show()"
   ]
  },
  {
   "cell_type": "code",
   "execution_count": null,
   "metadata": {},
   "outputs": [],
   "source": [
    "plt.bar(['Positive', 'Neutral', 'Negative'], list(reviews['TextBlob_Analysis_Review_Description'].value_counts()), \n",
    "            color = ['orange', 'grey', 'blue'])\n",
    "plt.title('Review Description Sentiments')\n",
    "plt.ylabel('Number of Reviews')\n",
    "plt.xlabel('Sentiment')\n",
    "plt.show()"
   ]
  },
  {
   "cell_type": "code",
   "execution_count": null,
   "metadata": {},
   "outputs": [],
   "source": [
    "plt.bar(['Positive', 'Neutral', 'Negative'], list(reviews['TextBlob_Analysis_Review_Title'].value_counts()), \n",
    "            color = ['orange', 'grey', 'blue'])\n",
    "plt.title('Review Title Sentiments')\n",
    "plt.ylabel('Number of Reviews')\n",
    "plt.xlabel('Sentiment')\n",
    "plt.show()"
   ]
  },
  {
   "cell_type": "code",
   "execution_count": null,
   "metadata": {},
   "outputs": [],
   "source": [
    "# Count of Ratings for Negative Sentiment\n",
    "sns.countplot(x = 'Review_Rating', data = reviews[reviews['TextBlob_Analysis_Review_Description'] == 'Negative']).set_title('Count of Ratings for Negative Sentiment')\n",
    "plt.show()"
   ]
  },
  {
   "cell_type": "code",
   "execution_count": null,
   "metadata": {},
   "outputs": [],
   "source": [
    "# Count of Ratings for Positive Sentiment\n",
    "sns.countplot(x = 'Review_Rating', data = reviews[reviews['TextBlob_Analysis_Review_Description'] == 'Positive']).set_title('Count of Ratings for Positive Sentiment')\n",
    "plt.show()"
   ]
  },
  {
   "cell_type": "code",
   "execution_count": null,
   "metadata": {},
   "outputs": [],
   "source": [
    "# Count of Ratings for Neutral Sentiment\n",
    "sns.countplot(x = 'Review_Rating', data = reviews[reviews['TextBlob_Analysis_Review_Description'] == 'Neutral']).set_title('Count of Ratings for Neutral Sentiment')\n",
    "plt.show()"
   ]
  },
  {
   "cell_type": "markdown",
   "metadata": {},
   "source": [
    "### Changes During Historic Events in 2020"
   ]
  },
  {
   "cell_type": "code",
   "execution_count": null,
   "metadata": {},
   "outputs": [],
   "source": [
    "# Filtering Reviews based on some common words associated with COVID\n",
    "covid = reviews[reviews['Review_Description'].str.contains('pandemic' , regex=False, case=False, na=False)\n",
    "                | reviews['Review_Description'].str.contains('corona' , regex=False, case=False, na=False)\n",
    "                | reviews['Review_Description'].str.contains('virus' , regex=False, case=False, na=False)\n",
    "                | reviews['Review_Description'].str.contains('covid' , regex=False, case=False, na=False)\n",
    "                | reviews['Review_Description'].str.contains('cdc' , regex=False, case=False, na=False)\n",
    "                | reviews['Review_Description'].str.contains('rona' , regex=False, case=False, na=False)\n",
    "                | reviews['Review_Description'].str.contains('fauci' , regex=False, case=False, na=False)\n",
    "                | reviews['Review_Description'].str.contains('wfh' , regex=False, case=False, na=False)\n",
    "                | reviews['Review_Description'].str.contains('distanc' , regex=False, case=False, na=False)\n",
    "                | reviews['Review_Description'].str.contains('sheep' , regex=False, case=False, na=False)\n",
    "                | reviews['Review_Description'].str.contains('mask' , regex=False, case=False, na=False)\n",
    "                | reviews['Review_Description'].str.contains('vaccine' , regex=False, case=False, na=False)\n",
    "                | reviews['Review_Description'].str.contains('pfizer' , regex=False, case=False, na=False)\n",
    "                | reviews['Review_Description'].str.contains('moderna' , regex=False, case=False, na=False)]"
   ]
  },
  {
   "cell_type": "code",
   "execution_count": null,
   "metadata": {},
   "outputs": [],
   "source": [
    "# Filtering Reviews based on some common words associated with the BLM Protests\n",
    "blm = reviews[reviews['Review_Description'].str.contains('blm' , regex=False, case=False, na=False)|\n",
    "              reviews['Review_Description'].str.contains('black lives matter' , regex=False, case=False, na=False)|\n",
    "              reviews['Review_Description'].str.contains('blacklivesmatter' , regex=False, case=False, na=False)|\n",
    "              reviews['Review_Description'].str.contains('george floyd' , regex=False, case=False, na=False)|\n",
    "              reviews['Review_Description'].str.contains('racism' , regex=False, case=False, na=False)|\n",
    "              reviews['Review_Description'].str.contains('white' , regex=False, case=False, na=False)|\n",
    "              reviews['Review_Description'].str.contains('supremacy' , regex=False, case=False, na=False)|\n",
    "              reviews['Review_Description'].str.contains('trump' , regex=False, case=False, na=False)|\n",
    "              reviews['Review_Description'].str.contains('racist' , regex=False, case=False, na=False)|\n",
    "              reviews['Review_Description'].str.contains('brutality' , regex=False, case=False, na=False)|\n",
    "              reviews['Review_Description'].str.contains('breonna taylor' , regex=False, case=False, na=False)|\n",
    "              reviews['Review_Description'].str.contains('police' , regex=False, case=False, na=False)]"
   ]
  },
  {
   "cell_type": "code",
   "execution_count": null,
   "metadata": {},
   "outputs": [],
   "source": [
    "# Filtering Reviews based on some common words associated with the Election and Politics\n",
    "politics = reviews[reviews['Review_Description'].str.contains('election' , regex=False, case=False, na=False)|\n",
    "              reviews['Review_Description'].str.contains('president' , regex=False, case=False, na=False)|\n",
    "              reviews['Review_Description'].str.contains('trump' , regex=False, case=False, na=False)|\n",
    "              reviews['Review_Description'].str.contains('biden' , regex=False, case=False, na=False)|\n",
    "              reviews['Review_Description'].str.contains('democrat' , regex=False, case=False, na=False)|\n",
    "              reviews['Review_Description'].str.contains('republican' , regex=False, case=False, na=False)|\n",
    "              reviews['Review_Description'].str.contains('govt' , regex=False, case=False, na=False)|\n",
    "              reviews['Review_Description'].str.contains('liberal' , regex=False, case=False, na=False)|\n",
    "              reviews['Review_Description'].str.contains('conservative' , regex=False, case=False, na=False)|\n",
    "              reviews['Review_Description'].str.contains('left' , regex=False, case=False, na=False)|\n",
    "              reviews['Review_Description'].str.contains('right' , regex=False, case=False, na=False)|\n",
    "              reviews['Review_Description'].str.contains('harris' , regex=False, case=False, na=False)|\n",
    "              reviews['Review_Description'].str.contains('pence' , regex=False, case=False, na=False)|\n",
    "              reviews['Review_Description'].str.contains('politics' , regex=False, case=False, na=False)|\n",
    "              reviews['Review_Description'].str.contains('media' , regex=False, case=False, na=False)]"
   ]
  },
  {
   "cell_type": "code",
   "execution_count": null,
   "metadata": {},
   "outputs": [],
   "source": [
    "plt.bar(['Positive', 'Neutral', 'Negative'], list(covid['TextBlob_Analysis_Review_Description'].value_counts()), \n",
    "            color = ['orange', 'grey', 'blue'])\n",
    "plt.title('Sentiments for COVID Related Data (Description)')\n",
    "plt.ylabel('Number of Reviews')\n",
    "plt.xlabel('Sentiment')\n",
    "plt.show()\n",
    "\n",
    "plt.bar(['Positive', 'Neutral', 'Negative'], list(covid['TextBlob_Analysis_Review_Title'].value_counts()), \n",
    "            color = ['orange', 'grey', 'blue'])\n",
    "plt.title('Sentiments for COVID Related Data (Title)')\n",
    "plt.ylabel('Number of Reviews')\n",
    "plt.xlabel('Sentiment')\n",
    "plt.show()"
   ]
  },
  {
   "cell_type": "code",
   "execution_count": null,
   "metadata": {},
   "outputs": [],
   "source": [
    "plt.bar(['Positive', 'Neutral', 'Negative'], list(blm['TextBlob_Analysis_Review_Description'].value_counts()), \n",
    "            color = ['orange', 'grey', 'blue'])\n",
    "plt.title('Sentiments for BLM Related Data (Description)')\n",
    "plt.ylabel('Number of Reviews')\n",
    "plt.xlabel('Sentiment')\n",
    "plt.show()\n",
    "\n",
    "plt.bar(['Positive', 'Neutral', 'Negative'], list(blm['TextBlob_Analysis_Review_Title'].value_counts()), \n",
    "            color = ['orange', 'grey', 'blue'])\n",
    "plt.title('Sentiments for BLM Related Data (Title)')\n",
    "plt.ylabel('Number of Reviews')\n",
    "plt.xlabel('Sentiment')\n",
    "plt.show()"
   ]
  },
  {
   "cell_type": "code",
   "execution_count": null,
   "metadata": {
    "scrolled": true
   },
   "outputs": [],
   "source": [
    "plt.bar(['Positive', 'Neutral', 'Negative'], list(politics['TextBlob_Analysis_Review_Description'].value_counts()), \n",
    "            color = ['orange', 'grey', 'blue'])\n",
    "plt.title('Sentiments for Politics Related Data (Description)')\n",
    "plt.ylabel('Number of Reviews')\n",
    "plt.xlabel('Sentiment')\n",
    "plt.show()\n",
    "\n",
    "plt.bar(['Positive', 'Neutral', 'Negative'], list(politics['TextBlob_Analysis_Review_Title'].value_counts()), \n",
    "            color = ['orange', 'grey', 'blue'])\n",
    "plt.title('Sentiments for Politics Related Data (Title)')\n",
    "plt.ylabel('Number of Reviews')\n",
    "plt.xlabel('Sentiment')\n",
    "plt.show()"
   ]
  },
  {
   "cell_type": "code",
   "execution_count": null,
   "metadata": {},
   "outputs": [],
   "source": [
    "blm_2020 = cag_rev[cag_rev['year'] == 2020]\n",
    "blm_2020_month = blm_2020.groupby(['month','Review_Rating'])['Podcast_ID'].count()\n",
    "blm_2020_props = blm_2020_month.groupby(level = 0).apply(lambda x : 100 * x / float(x.sum()))\n",
    "blm_2020_props = blm_2020_props.reset_index()\n",
    "blm_2020_props = blm_2020_props.rename(columns = {'Podcast_ID':'proportion'})\n",
    "blm_one_props = blm_2020_props[blm_2020_props['Review_Rating'] == 1]\n",
    "blm_five_props = blm_2020_props[blm_2020_props['Review_Rating'] == 5]"
   ]
  },
  {
   "cell_type": "markdown",
   "metadata": {},
   "source": [
    "Using the historic Black lives Matter movement protests of 2020 as the treatment to fit the model"
   ]
  },
  {
   "cell_type": "code",
   "execution_count": null,
   "metadata": {},
   "outputs": [],
   "source": [
    "# Data Prepration\n",
    "blm = pd.read_csv(\"multiTimeline.csv\")\n",
    "blm = blm.reset_index()\n",
    "blm.drop(0, inplace = True)\n",
    "blm = blm.rename(columns = {'index': 'date', 'Category: All categories':'score'})\n",
    "blm['date'] = pd.to_datetime(blm['date'], infer_datetime_format = True)\n",
    "blm['year'] = blm['date'].dt.year\n",
    "blm['month'] = blm['date'].dt.month\n",
    "blm['day'] = blm['date'].dt.day\n",
    "blm['score'] = blm['score'].astype('int')\n",
    "avg_score_blm = blm.groupby('month')['score'].mean()\n",
    "avg_score_blm = avg_score_blm.reset_index()"
   ]
  },
  {
   "cell_type": "code",
   "execution_count": null,
   "metadata": {
    "scrolled": true
   },
   "outputs": [],
   "source": [
    "!pip install pycausalimpact --user"
   ]
  },
  {
   "cell_type": "code",
   "execution_count": null,
   "metadata": {},
   "outputs": [],
   "source": [
    "# The below summary shows that the BLM Protests did have a significant negative effect on the proportion of rating 1\n",
    "y  = list(blm_one_props.proportion)\n",
    "X  = list(avg_score_blm.score)\n",
    "model_data = pd.DataFrame({'y': y, 'X':X}, columns = ['y', 'X'])\n",
    "\n",
    "pre_period = [0,4]\n",
    "post_period = [5, 11]\n",
    "ci = CausalImpact(model_data, pre_period, post_period)\n",
    "print(ci.summary())\n",
    "print(ci.summary(output='report'))\n",
    "ci.plot()"
   ]
  },
  {
   "cell_type": "code",
   "execution_count": null,
   "metadata": {},
   "outputs": [],
   "source": [
    "# The below summary shows that the BLM Protests did have a significant negative effect on the proportion of rating 5\n",
    "y1 =  list(blm_five_props.proportion)\n",
    "X1 = list(avg_score_blm.score)\n",
    "model_props_five = pd.DataFrame({'y':y1, 'X':X1}, columns = ['y', 'X'])\n",
    "pre_period = [0,4]\n",
    "post_period = [5, 11]\n",
    "ci_five =CausalImpact(model_props_five, pre_period, post_period)\n",
    "print(ci_five.summary())\n",
    "print(ci_five.summary(output='report'))\n",
    "ci_five.plot()\n",
    "\n",
    "# After running the similar model on the covid19, \n",
    "# it seems that this shock doesn't have signifiance effect either of proportion of rating."
   ]
  },
  {
   "cell_type": "code",
   "execution_count": null,
   "metadata": {},
   "outputs": [],
   "source": [
    "cag_rev_pod = pd.merge(cag_rev, podcasts, on = 'Podcast_ID')\n",
    "june_2020 = cag_rev_pod[(cag_rev_pod.year == 2020) & (cag_rev_pod.month == 6)]\n",
    "all_cats = june_2020.groupby(['Category_x','Review_Rating'])['Podcast_ID'].count()\n",
    "all_cats_props = all_cats.groupby(level = 0).apply(lambda x : 100 * x / float(x.sum()))\n",
    "all_cats_props = all_cats_props.reset_index()\n",
    "sorted_one = all_cats_props[all_cats_props['Review_Rating'] == 1].sort_values(by = 'Podcast_ID', ascending = False)\n",
    "sorted_five = all_cats_props[all_cats_props['Review_Rating'] == 5].sort_values(by = 'Podcast_ID', ascending = False)\n",
    "top_six_june = list(sorted_one.Category_x)[0:6]\n",
    "top_six = june_2020[june_2020['Category_x'].isin(top_six_june)]"
   ]
  },
  {
   "cell_type": "code",
   "execution_count": null,
   "metadata": {},
   "outputs": [],
   "source": [
    "def cat_clouds(category):\n",
    "    stopwords = set(STOPWORDS)\n",
    "    stopwords.update(['podcast', 'listen', 'podcasts', 'listening','episode', 'listened','s',\n",
    "                      'show', 'episodes', 'used', 'good', 'love', 'listener', 'will', 'really'\n",
    "                     , 'like', 'people', 'don', 't', 'm', '&','ve', 're', 'one'])\n",
    "\n",
    "    ratings_table = top_six[(top_six.Review_Rating == 1) & (top_six.Category_x == category)]\n",
    "    description_text = ' '.join(review for review in ratings_table.Review_Description)\n",
    "    description_text = description_text.lower()\n",
    "    description_text = description_text.strip()\n",
    "\n",
    "    title_text = ' '.join(review for review in ratings_table.Review_Title)\n",
    "    title_text = title_text.strip()\n",
    "    \n",
    "    print('Rating: {}'.format(1))\n",
    "    print('Word Cloud for ' + category)\n",
    "    plt.figure(figsize=(20, 20))\n",
    "    plt.imshow(WordCloud(stopwords = stopwords).generate(description_text), interpolation = 'bilinear')\n",
    "    plt.axis('off')\n",
    "    plt.show()\n",
    "    \n",
    "    print('Word Cloud for Review Titles')\n",
    "    plt.figure(figsize=(20, 20))\n",
    "    plt.imshow(WordCloud(stopwords = stopwords).generate(title_text), interpolation = 'bilinear')\n",
    "    plt.axis('off')\n",
    "    plt.show()"
   ]
  },
  {
   "cell_type": "code",
   "execution_count": null,
   "metadata": {
    "scrolled": false
   },
   "outputs": [],
   "source": [
    "for cat in top_six_june:\n",
    "    cat_clouds(cat)"
   ]
  },
  {
   "cell_type": "code",
   "execution_count": null,
   "metadata": {},
   "outputs": [],
   "source": [
    "ratings_table = top_six[(top_six.Review_Rating == 1) & (top_six.Category_x == 'tv-film')]\n",
    "tv_film = ratings_table.groupby('Podcast_ID')['Review_Rating'].count()\n",
    "tv_film = tv_film.reset_index()\n",
    "tv_film['Podcast_Name'] = [podname_finder(i)[0] for i in tv_film.Podcast_ID]\n",
    "tv_film.sort_values(by = 'Review_Rating', ascending =False)"
   ]
  },
  {
   "cell_type": "code",
   "execution_count": null,
   "metadata": {},
   "outputs": [],
   "source": [
    "pod1 = ratings_table[ratings_table['Podcast_ID'] == 'ef47233dcfdc0bf67681db6322b57f58']\n",
    "pod2 = ratings_table[ratings_table['Podcast_ID'] == 'b7b4bdc0af05e557dc772b52be8cd986']"
   ]
  },
  {
   "cell_type": "code",
   "execution_count": null,
   "metadata": {},
   "outputs": [],
   "source": [
    "pod1.head()[['Review_Title','Review_Description']]"
   ]
  },
  {
   "cell_type": "code",
   "execution_count": null,
   "metadata": {},
   "outputs": [],
   "source": [
    "pod2.head()[['Review_Title','Review_Description']]"
   ]
  },
  {
   "cell_type": "markdown",
   "metadata": {},
   "source": [
    "### Combination and Categorical Sentiment Analysis"
   ]
  },
  {
   "cell_type": "code",
   "execution_count": null,
   "metadata": {
    "scrolled": false
   },
   "outputs": [],
   "source": [
    "# Review with the highest positive sentiment (Same for both Titles and Descriptions)\n",
    "reviews[reviews['TextBlob_Polarity_Review_Description'] == 1].head()"
   ]
  },
  {
   "cell_type": "code",
   "execution_count": null,
   "metadata": {},
   "outputs": [],
   "source": [
    "# Review with the neutral sentiment (Same for both Titles and Descriptions)\n",
    "reviews[reviews['TextBlob_Polarity_Review_Description'] == 0].tail(10)"
   ]
  },
  {
   "cell_type": "code",
   "execution_count": null,
   "metadata": {
    "scrolled": true
   },
   "outputs": [],
   "source": [
    "# Review Descriptions with the highest negative sentiment \n",
    "reviews[reviews['TextBlob_Polarity_Review_Description'] == -1].head()"
   ]
  },
  {
   "cell_type": "code",
   "execution_count": null,
   "metadata": {},
   "outputs": [],
   "source": [
    "# Review Descriptions with the highest negative sentiment \n",
    "reviews[reviews['TextBlob_Polarity_Review_Title'] == -1].head()"
   ]
  },
  {
   "cell_type": "code",
   "execution_count": null,
   "metadata": {},
   "outputs": [],
   "source": [
    "# Sentiment over the week for Descriptions\n",
    "reviews['weekday'] = reviews['Review_Created_At'].dt.dayofweek\n",
    "avg_sentiment = reviews.groupby(['weekday'])['TextBlob_Polarity_Review_Description'].mean().reset_index(name='Weekday Avg')\n",
    "sns.lineplot(x='weekday', y='Weekday Avg', data = avg_sentiment)"
   ]
  },
  {
   "cell_type": "code",
   "execution_count": null,
   "metadata": {
    "scrolled": true
   },
   "outputs": [],
   "source": [
    "# Sentiment over the week for Titles\n",
    "avg_sentiment = reviews.groupby(['weekday'])['TextBlob_Polarity_Review_Title'].mean().reset_index(name='Weekday Avg')\n",
    "sns.lineplot(x='weekday', y='Weekday Avg', data = avg_sentiment)"
   ]
  },
  {
   "cell_type": "code",
   "execution_count": null,
   "metadata": {},
   "outputs": [],
   "source": [
    "# Sentiment over the year for titles\n",
    "avg_sentiment = reviews.groupby(['month'])['TextBlob_Polarity_Review_Description'].mean().reset_index(name='Monthly Avg')\n",
    "sns.lineplot(x='month', y='Monthly Avg', data = avg_sentiment)"
   ]
  },
  {
   "cell_type": "code",
   "execution_count": null,
   "metadata": {
    "scrolled": true
   },
   "outputs": [],
   "source": [
    "# Sentiment over the year for titles\n",
    "avg_sentiment = reviews.groupby(['month'])['TextBlob_Polarity_Review_Title'].mean().reset_index(name='Monthly Avg')\n",
    "sns.lineplot(x='month', y='Monthly Avg', data = avg_sentiment)"
   ]
  },
  {
   "cell_type": "code",
   "execution_count": null,
   "metadata": {},
   "outputs": [],
   "source": [
    "# Sentiment over the day for Descriptions\n",
    "reviews['hour'] = reviews['Review_Created_At'].dt.hour\n",
    "avg_sentiment = reviews.groupby(['hour'])['TextBlob_Polarity_Review_Description'].mean().reset_index(name='Hourly Avg')\n",
    "sns.lineplot(x='hour', y='Hourly Avg', data = avg_sentiment)"
   ]
  },
  {
   "cell_type": "code",
   "execution_count": null,
   "metadata": {
    "scrolled": false
   },
   "outputs": [],
   "source": [
    "reviews['hour'] = reviews['Review_Created_At'].dt.hour\n",
    "avg_sentiment = reviews.groupby(['hour'])['TextBlob_Polarity_Review_Title'].mean().reset_index(name='Hourly Avg')\n",
    "sns.lineplot(x='hour', y='Hourly Avg', data = avg_sentiment)"
   ]
  },
  {
   "cell_type": "code",
   "execution_count": null,
   "metadata": {},
   "outputs": [],
   "source": [
    "reviews = pd.merge(reviews, podcasts, on='Podcast_ID')"
   ]
  },
  {
   "cell_type": "code",
   "execution_count": null,
   "metadata": {
    "scrolled": false
   },
   "outputs": [],
   "source": [
    "for cat in sorted(set(reviews.Category)):\n",
    "    cat_df = reviews[reviews.Category == cat]\n",
    "    sentiment_analyzer(cat_df, 'Review_Description')\n",
    "    sentiment_analyzer(cat_df, 'Review_Title')\n",
    "    print('Category: {}'.format(cat.upper()))\n",
    "\n",
    "    plt.bar(['Positive', 'Neutral', 'Negative'], list(cat_df['TextBlob_Analysis_Review_Description'].value_counts()), \n",
    "            color = ['orange', 'grey', 'blue'])\n",
    "    plt.title('Category: {} [Review Description]'.format(cat.upper()))\n",
    "    plt.ylabel('Number of Reviews')\n",
    "    plt.xlabel('Sentiment for Review Descriptions')\n",
    "    plt.show()\n",
    "    \n",
    "    plt.bar(['Positive', 'Neutral', 'Negative'], list(cat_df['TextBlob_Analysis_Review_Title'].value_counts()), \n",
    "            color = ['orange', 'grey', 'blue'])\n",
    "    plt.title('Category: {} [Review Title]'.format(cat.upper()))\n",
    "    plt.ylabel('Number of Reviews')\n",
    "    plt.xlabel('Sentiment for Review Titles')\n",
    "    plt.show()"
   ]
  },
  {
   "cell_type": "code",
   "execution_count": null,
   "metadata": {},
   "outputs": [],
   "source": [
    "reviews['Sentiment_Combination'] = reviews[['TextBlob_Analysis_Review_Title', 'TextBlob_Analysis_Review_Description']].values.tolist()\n",
    "plt.barh([str(x) for x in list(pd.DataFrame(reviews['Sentiment_Combination'].value_counts()).index)], \n",
    "         list(reviews['Sentiment_Combination'].value_counts()))\n",
    "plt.title('Number of Reviews by Sentiment Combination')\n",
    "plt.xlabel('Number of Reviews')\n",
    "plt.ylabel('Sentiment Combination \\n[Review Title Sentiment, Review Description Sentiment]')\n",
    "plt.show()"
   ]
  }
 ],
 "metadata": {
  "kernelspec": {
   "display_name": "Python 3",
   "language": "python",
   "name": "python3"
  },
  "language_info": {
   "codemirror_mode": {
    "name": "ipython",
    "version": 3
   },
   "file_extension": ".py",
   "mimetype": "text/x-python",
   "name": "python",
   "nbconvert_exporter": "python",
   "pygments_lexer": "ipython3",
   "version": "3.8.3"
  }
 },
 "nbformat": 4,
 "nbformat_minor": 4
}
